{
 "cells": [
  {
   "cell_type": "markdown",
   "id": "ebee93de",
   "metadata": {
    "papermill": {
     "duration": 0.004646,
     "end_time": "2023-10-08T14:28:03.116806",
     "exception": false,
     "start_time": "2023-10-08T14:28:03.112160",
     "status": "completed"
    },
    "tags": []
   },
   "source": [
    "**This notebook is an exercise in the [Pandas](https://www.kaggle.com/learn/pandas) course.  You can reference the tutorial at [this link](https://www.kaggle.com/residentmario/summary-functions-and-maps).**\n",
    "\n",
    "---\n"
   ]
  },
  {
   "cell_type": "markdown",
   "id": "9e2c5786",
   "metadata": {
    "papermill": {
     "duration": 0.003504,
     "end_time": "2023-10-08T14:28:03.124200",
     "exception": false,
     "start_time": "2023-10-08T14:28:03.120696",
     "status": "completed"
    },
    "tags": []
   },
   "source": [
    "# Introduction\n",
    "\n",
    "Now you are ready to get a deeper understanding of your data.\n",
    "\n",
    "Run the following cell to load your data and some utility functions (including code to check your answers)."
   ]
  },
  {
   "cell_type": "code",
   "execution_count": 1,
   "id": "36ea3c81",
   "metadata": {
    "execution": {
     "iopub.execute_input": "2023-10-08T14:28:03.133346Z",
     "iopub.status.busy": "2023-10-08T14:28:03.132645Z",
     "iopub.status.idle": "2023-10-08T14:28:13.250673Z",
     "shell.execute_reply": "2023-10-08T14:28:13.249397Z"
    },
    "papermill": {
     "duration": 10.125299,
     "end_time": "2023-10-08T14:28:13.252797",
     "exception": false,
     "start_time": "2023-10-08T14:28:03.127498",
     "status": "completed"
    },
    "tags": []
   },
   "outputs": [
    {
     "name": "stdout",
     "output_type": "stream",
     "text": [
      "Setup complete.\n"
     ]
    },
    {
     "data": {
      "text/html": [
       "<div>\n",
       "<style scoped>\n",
       "    .dataframe tbody tr th:only-of-type {\n",
       "        vertical-align: middle;\n",
       "    }\n",
       "\n",
       "    .dataframe tbody tr th {\n",
       "        vertical-align: top;\n",
       "    }\n",
       "\n",
       "    .dataframe thead th {\n",
       "        text-align: right;\n",
       "    }\n",
       "</style>\n",
       "<table border=\"1\" class=\"dataframe\">\n",
       "  <thead>\n",
       "    <tr style=\"text-align: right;\">\n",
       "      <th></th>\n",
       "      <th>country</th>\n",
       "      <th>description</th>\n",
       "      <th>designation</th>\n",
       "      <th>points</th>\n",
       "      <th>price</th>\n",
       "      <th>province</th>\n",
       "      <th>region_1</th>\n",
       "      <th>region_2</th>\n",
       "      <th>taster_name</th>\n",
       "      <th>taster_twitter_handle</th>\n",
       "      <th>title</th>\n",
       "      <th>variety</th>\n",
       "      <th>winery</th>\n",
       "    </tr>\n",
       "  </thead>\n",
       "  <tbody>\n",
       "    <tr>\n",
       "      <th>0</th>\n",
       "      <td>Italy</td>\n",
       "      <td>Aromas include tropical fruit, broom, brimston...</td>\n",
       "      <td>Vulkà Bianco</td>\n",
       "      <td>87</td>\n",
       "      <td>NaN</td>\n",
       "      <td>Sicily &amp; Sardinia</td>\n",
       "      <td>Etna</td>\n",
       "      <td>NaN</td>\n",
       "      <td>Kerin O’Keefe</td>\n",
       "      <td>@kerinokeefe</td>\n",
       "      <td>Nicosia 2013 Vulkà Bianco  (Etna)</td>\n",
       "      <td>White Blend</td>\n",
       "      <td>Nicosia</td>\n",
       "    </tr>\n",
       "    <tr>\n",
       "      <th>1</th>\n",
       "      <td>Portugal</td>\n",
       "      <td>This is ripe and fruity, a wine that is smooth...</td>\n",
       "      <td>Avidagos</td>\n",
       "      <td>87</td>\n",
       "      <td>15.0</td>\n",
       "      <td>Douro</td>\n",
       "      <td>NaN</td>\n",
       "      <td>NaN</td>\n",
       "      <td>Roger Voss</td>\n",
       "      <td>@vossroger</td>\n",
       "      <td>Quinta dos Avidagos 2011 Avidagos Red (Douro)</td>\n",
       "      <td>Portuguese Red</td>\n",
       "      <td>Quinta dos Avidagos</td>\n",
       "    </tr>\n",
       "    <tr>\n",
       "      <th>2</th>\n",
       "      <td>US</td>\n",
       "      <td>Tart and snappy, the flavors of lime flesh and...</td>\n",
       "      <td>NaN</td>\n",
       "      <td>87</td>\n",
       "      <td>14.0</td>\n",
       "      <td>Oregon</td>\n",
       "      <td>Willamette Valley</td>\n",
       "      <td>Willamette Valley</td>\n",
       "      <td>Paul Gregutt</td>\n",
       "      <td>@paulgwine</td>\n",
       "      <td>Rainstorm 2013 Pinot Gris (Willamette Valley)</td>\n",
       "      <td>Pinot Gris</td>\n",
       "      <td>Rainstorm</td>\n",
       "    </tr>\n",
       "    <tr>\n",
       "      <th>3</th>\n",
       "      <td>US</td>\n",
       "      <td>Pineapple rind, lemon pith and orange blossom ...</td>\n",
       "      <td>Reserve Late Harvest</td>\n",
       "      <td>87</td>\n",
       "      <td>13.0</td>\n",
       "      <td>Michigan</td>\n",
       "      <td>Lake Michigan Shore</td>\n",
       "      <td>NaN</td>\n",
       "      <td>Alexander Peartree</td>\n",
       "      <td>NaN</td>\n",
       "      <td>St. Julian 2013 Reserve Late Harvest Riesling ...</td>\n",
       "      <td>Riesling</td>\n",
       "      <td>St. Julian</td>\n",
       "    </tr>\n",
       "    <tr>\n",
       "      <th>4</th>\n",
       "      <td>US</td>\n",
       "      <td>Much like the regular bottling from 2012, this...</td>\n",
       "      <td>Vintner's Reserve Wild Child Block</td>\n",
       "      <td>87</td>\n",
       "      <td>65.0</td>\n",
       "      <td>Oregon</td>\n",
       "      <td>Willamette Valley</td>\n",
       "      <td>Willamette Valley</td>\n",
       "      <td>Paul Gregutt</td>\n",
       "      <td>@paulgwine</td>\n",
       "      <td>Sweet Cheeks 2012 Vintner's Reserve Wild Child...</td>\n",
       "      <td>Pinot Noir</td>\n",
       "      <td>Sweet Cheeks</td>\n",
       "    </tr>\n",
       "  </tbody>\n",
       "</table>\n",
       "</div>"
      ],
      "text/plain": [
       "    country                                        description  \\\n",
       "0     Italy  Aromas include tropical fruit, broom, brimston...   \n",
       "1  Portugal  This is ripe and fruity, a wine that is smooth...   \n",
       "2        US  Tart and snappy, the flavors of lime flesh and...   \n",
       "3        US  Pineapple rind, lemon pith and orange blossom ...   \n",
       "4        US  Much like the regular bottling from 2012, this...   \n",
       "\n",
       "                          designation  points  price           province  \\\n",
       "0                        Vulkà Bianco      87    NaN  Sicily & Sardinia   \n",
       "1                            Avidagos      87   15.0              Douro   \n",
       "2                                 NaN      87   14.0             Oregon   \n",
       "3                Reserve Late Harvest      87   13.0           Michigan   \n",
       "4  Vintner's Reserve Wild Child Block      87   65.0             Oregon   \n",
       "\n",
       "              region_1           region_2         taster_name  \\\n",
       "0                 Etna                NaN       Kerin O’Keefe   \n",
       "1                  NaN                NaN          Roger Voss   \n",
       "2    Willamette Valley  Willamette Valley        Paul Gregutt   \n",
       "3  Lake Michigan Shore                NaN  Alexander Peartree   \n",
       "4    Willamette Valley  Willamette Valley        Paul Gregutt   \n",
       "\n",
       "  taster_twitter_handle                                              title  \\\n",
       "0          @kerinokeefe                  Nicosia 2013 Vulkà Bianco  (Etna)   \n",
       "1            @vossroger      Quinta dos Avidagos 2011 Avidagos Red (Douro)   \n",
       "2           @paulgwine       Rainstorm 2013 Pinot Gris (Willamette Valley)   \n",
       "3                   NaN  St. Julian 2013 Reserve Late Harvest Riesling ...   \n",
       "4           @paulgwine   Sweet Cheeks 2012 Vintner's Reserve Wild Child...   \n",
       "\n",
       "          variety               winery  \n",
       "0     White Blend              Nicosia  \n",
       "1  Portuguese Red  Quinta dos Avidagos  \n",
       "2      Pinot Gris            Rainstorm  \n",
       "3        Riesling           St. Julian  \n",
       "4      Pinot Noir         Sweet Cheeks  "
      ]
     },
     "execution_count": 1,
     "metadata": {},
     "output_type": "execute_result"
    }
   ],
   "source": [
    "import pandas as pd\n",
    "pd.set_option(\"display.max_rows\", 5)\n",
    "reviews = pd.read_csv(\"../input/wine-reviews/winemag-data-130k-v2.csv\", index_col=0)\n",
    "\n",
    "from learntools.core import binder; binder.bind(globals())\n",
    "from learntools.pandas.summary_functions_and_maps import *\n",
    "print(\"Setup complete.\")\n",
    "\n",
    "reviews.head()"
   ]
  },
  {
   "cell_type": "markdown",
   "id": "4be6bde2",
   "metadata": {
    "papermill": {
     "duration": 0.003424,
     "end_time": "2023-10-08T14:28:13.260377",
     "exception": false,
     "start_time": "2023-10-08T14:28:13.256953",
     "status": "completed"
    },
    "tags": []
   },
   "source": [
    "# Exercises"
   ]
  },
  {
   "cell_type": "markdown",
   "id": "9186b4cc",
   "metadata": {
    "papermill": {
     "duration": 0.003406,
     "end_time": "2023-10-08T14:28:13.267445",
     "exception": false,
     "start_time": "2023-10-08T14:28:13.264039",
     "status": "completed"
    },
    "tags": []
   },
   "source": [
    "## 1.\n",
    "\n",
    "What is the median of the `points` column in the `reviews` DataFrame?"
   ]
  },
  {
   "cell_type": "code",
   "execution_count": 2,
   "id": "011b415e",
   "metadata": {
    "execution": {
     "iopub.execute_input": "2023-10-08T14:28:13.276455Z",
     "iopub.status.busy": "2023-10-08T14:28:13.276110Z",
     "iopub.status.idle": "2023-10-08T14:28:13.283831Z",
     "shell.execute_reply": "2023-10-08T14:28:13.282906Z"
    },
    "papermill": {
     "duration": 0.015661,
     "end_time": "2023-10-08T14:28:13.286643",
     "exception": false,
     "start_time": "2023-10-08T14:28:13.270982",
     "status": "completed"
    },
    "tags": []
   },
   "outputs": [
    {
     "data": {
      "application/javascript": [
       "parent.postMessage({\"jupyterEvent\": \"custom.exercise_interaction\", \"data\": {\"outcomeType\": 1, \"valueTowardsCompletion\": 0.14285714285714285, \"interactionType\": 1, \"questionType\": 1, \"questionId\": \"1_MedianPoints\", \"learnToolsVersion\": \"0.3.4\", \"failureMessage\": \"\", \"exceptionClass\": \"\", \"trace\": \"\"}}, \"*\")"
      ],
      "text/plain": [
       "<IPython.core.display.Javascript object>"
      ]
     },
     "metadata": {},
     "output_type": "display_data"
    },
    {
     "data": {
      "text/markdown": [
       "<span style=\"color:#33cc33\">Correct</span>"
      ],
      "text/plain": [
       "Correct"
      ]
     },
     "metadata": {},
     "output_type": "display_data"
    }
   ],
   "source": [
    "median_points = reviews.points.median()\n",
    "\n",
    "# Check your answer\n",
    "q1.check()"
   ]
  },
  {
   "cell_type": "code",
   "execution_count": 3,
   "id": "4ef01517",
   "metadata": {
    "execution": {
     "iopub.execute_input": "2023-10-08T14:28:13.296243Z",
     "iopub.status.busy": "2023-10-08T14:28:13.295847Z",
     "iopub.status.idle": "2023-10-08T14:28:13.300988Z",
     "shell.execute_reply": "2023-10-08T14:28:13.299816Z"
    },
    "papermill": {
     "duration": 0.012443,
     "end_time": "2023-10-08T14:28:13.303351",
     "exception": false,
     "start_time": "2023-10-08T14:28:13.290908",
     "status": "completed"
    },
    "tags": []
   },
   "outputs": [],
   "source": [
    "#q1.hint()\n",
    "#q1.solution()"
   ]
  },
  {
   "cell_type": "markdown",
   "id": "743d30c4",
   "metadata": {
    "papermill": {
     "duration": 0.003524,
     "end_time": "2023-10-08T14:28:13.311051",
     "exception": false,
     "start_time": "2023-10-08T14:28:13.307527",
     "status": "completed"
    },
    "tags": []
   },
   "source": [
    "## 2. \n",
    "What countries are represented in the dataset? (Your answer should not include any duplicates.)"
   ]
  },
  {
   "cell_type": "code",
   "execution_count": 4,
   "id": "0bbe4281",
   "metadata": {
    "execution": {
     "iopub.execute_input": "2023-10-08T14:28:13.320221Z",
     "iopub.status.busy": "2023-10-08T14:28:13.319863Z",
     "iopub.status.idle": "2023-10-08T14:28:13.334381Z",
     "shell.execute_reply": "2023-10-08T14:28:13.332907Z"
    },
    "papermill": {
     "duration": 0.021918,
     "end_time": "2023-10-08T14:28:13.336671",
     "exception": false,
     "start_time": "2023-10-08T14:28:13.314753",
     "status": "completed"
    },
    "tags": []
   },
   "outputs": [
    {
     "data": {
      "application/javascript": [
       "parent.postMessage({\"jupyterEvent\": \"custom.exercise_interaction\", \"data\": {\"outcomeType\": 1, \"valueTowardsCompletion\": 0.14285714285714285, \"interactionType\": 1, \"questionType\": 2, \"questionId\": \"2_UniqueCountries\", \"learnToolsVersion\": \"0.3.4\", \"failureMessage\": \"\", \"exceptionClass\": \"\", \"trace\": \"\"}}, \"*\")"
      ],
      "text/plain": [
       "<IPython.core.display.Javascript object>"
      ]
     },
     "metadata": {},
     "output_type": "display_data"
    },
    {
     "data": {
      "text/markdown": [
       "<span style=\"color:#33cc33\">Correct</span>"
      ],
      "text/plain": [
       "Correct"
      ]
     },
     "metadata": {},
     "output_type": "display_data"
    }
   ],
   "source": [
    "countries = reviews.country.unique()\n",
    "\n",
    "# Check your answer\n",
    "q2.check()"
   ]
  },
  {
   "cell_type": "code",
   "execution_count": 5,
   "id": "59752589",
   "metadata": {
    "execution": {
     "iopub.execute_input": "2023-10-08T14:28:13.346929Z",
     "iopub.status.busy": "2023-10-08T14:28:13.346563Z",
     "iopub.status.idle": "2023-10-08T14:28:13.351090Z",
     "shell.execute_reply": "2023-10-08T14:28:13.349768Z"
    },
    "papermill": {
     "duration": 0.011735,
     "end_time": "2023-10-08T14:28:13.352718",
     "exception": false,
     "start_time": "2023-10-08T14:28:13.340983",
     "status": "completed"
    },
    "tags": []
   },
   "outputs": [],
   "source": [
    "#q2.hint()\n",
    "#q2.solution()"
   ]
  },
  {
   "cell_type": "markdown",
   "id": "c3cb9c85",
   "metadata": {
    "papermill": {
     "duration": 0.003726,
     "end_time": "2023-10-08T14:28:13.360813",
     "exception": false,
     "start_time": "2023-10-08T14:28:13.357087",
     "status": "completed"
    },
    "tags": []
   },
   "source": [
    "## 3.\n",
    "How often does each country appear in the dataset? Create a Series `reviews_per_country` mapping countries to the count of reviews of wines from that country."
   ]
  },
  {
   "cell_type": "code",
   "execution_count": 6,
   "id": "f6caf2f5",
   "metadata": {
    "execution": {
     "iopub.execute_input": "2023-10-08T14:28:13.370445Z",
     "iopub.status.busy": "2023-10-08T14:28:13.370137Z",
     "iopub.status.idle": "2023-10-08T14:28:13.386257Z",
     "shell.execute_reply": "2023-10-08T14:28:13.384921Z"
    },
    "papermill": {
     "duration": 0.023515,
     "end_time": "2023-10-08T14:28:13.388346",
     "exception": false,
     "start_time": "2023-10-08T14:28:13.364831",
     "status": "completed"
    },
    "tags": []
   },
   "outputs": [
    {
     "data": {
      "application/javascript": [
       "parent.postMessage({\"jupyterEvent\": \"custom.exercise_interaction\", \"data\": {\"outcomeType\": 1, \"valueTowardsCompletion\": 0.14285714285714285, \"interactionType\": 1, \"questionType\": 1, \"questionId\": \"3_ReviewsPerCountry\", \"learnToolsVersion\": \"0.3.4\", \"failureMessage\": \"\", \"exceptionClass\": \"\", \"trace\": \"\"}}, \"*\")"
      ],
      "text/plain": [
       "<IPython.core.display.Javascript object>"
      ]
     },
     "metadata": {},
     "output_type": "display_data"
    },
    {
     "data": {
      "text/markdown": [
       "<span style=\"color:#33cc33\">Correct</span>"
      ],
      "text/plain": [
       "Correct"
      ]
     },
     "metadata": {},
     "output_type": "display_data"
    }
   ],
   "source": [
    "reviews_per_country = reviews.country.value_counts()\n",
    "\n",
    "# Check your answer\n",
    "q3.check()"
   ]
  },
  {
   "cell_type": "code",
   "execution_count": 7,
   "id": "9eb9b1dd",
   "metadata": {
    "execution": {
     "iopub.execute_input": "2023-10-08T14:28:13.398964Z",
     "iopub.status.busy": "2023-10-08T14:28:13.398626Z",
     "iopub.status.idle": "2023-10-08T14:28:13.403696Z",
     "shell.execute_reply": "2023-10-08T14:28:13.402152Z"
    },
    "papermill": {
     "duration": 0.012589,
     "end_time": "2023-10-08T14:28:13.405517",
     "exception": false,
     "start_time": "2023-10-08T14:28:13.392928",
     "status": "completed"
    },
    "tags": []
   },
   "outputs": [],
   "source": [
    "#q3.hint()\n",
    "#q3.solution()"
   ]
  },
  {
   "cell_type": "markdown",
   "id": "f666b0dc",
   "metadata": {
    "papermill": {
     "duration": 0.003894,
     "end_time": "2023-10-08T14:28:13.413880",
     "exception": false,
     "start_time": "2023-10-08T14:28:13.409986",
     "status": "completed"
    },
    "tags": []
   },
   "source": [
    "## 4.\n",
    "Create variable `centered_price` containing a version of the `price` column with the mean price subtracted.\n",
    "\n",
    "(Note: this 'centering' transformation is a common preprocessing step before applying various machine learning algorithms.) "
   ]
  },
  {
   "cell_type": "code",
   "execution_count": 8,
   "id": "dfa12119",
   "metadata": {
    "execution": {
     "iopub.execute_input": "2023-10-08T14:28:13.423818Z",
     "iopub.status.busy": "2023-10-08T14:28:13.423483Z",
     "iopub.status.idle": "2023-10-08T14:28:13.433877Z",
     "shell.execute_reply": "2023-10-08T14:28:13.432346Z"
    },
    "papermill": {
     "duration": 0.01805,
     "end_time": "2023-10-08T14:28:13.436116",
     "exception": false,
     "start_time": "2023-10-08T14:28:13.418066",
     "status": "completed"
    },
    "tags": []
   },
   "outputs": [
    {
     "data": {
      "application/javascript": [
       "parent.postMessage({\"jupyterEvent\": \"custom.exercise_interaction\", \"data\": {\"outcomeType\": 1, \"valueTowardsCompletion\": 0.14285714285714285, \"interactionType\": 1, \"questionType\": 1, \"questionId\": \"4_CenteredPrice\", \"learnToolsVersion\": \"0.3.4\", \"failureMessage\": \"\", \"exceptionClass\": \"\", \"trace\": \"\"}}, \"*\")"
      ],
      "text/plain": [
       "<IPython.core.display.Javascript object>"
      ]
     },
     "metadata": {},
     "output_type": "display_data"
    },
    {
     "data": {
      "text/markdown": [
       "<span style=\"color:#33cc33\">Correct</span>"
      ],
      "text/plain": [
       "Correct"
      ]
     },
     "metadata": {},
     "output_type": "display_data"
    }
   ],
   "source": [
    "centered_price = reviews.price-reviews.price.mean()\n",
    "\n",
    "# Check your answer\n",
    "q4.check()"
   ]
  },
  {
   "cell_type": "code",
   "execution_count": 9,
   "id": "b0ed41ba",
   "metadata": {
    "execution": {
     "iopub.execute_input": "2023-10-08T14:28:13.446930Z",
     "iopub.status.busy": "2023-10-08T14:28:13.446568Z",
     "iopub.status.idle": "2023-10-08T14:28:13.451025Z",
     "shell.execute_reply": "2023-10-08T14:28:13.450030Z"
    },
    "papermill": {
     "duration": 0.012172,
     "end_time": "2023-10-08T14:28:13.453075",
     "exception": false,
     "start_time": "2023-10-08T14:28:13.440903",
     "status": "completed"
    },
    "tags": []
   },
   "outputs": [],
   "source": [
    "#q4.hint()\n",
    "#q4.solution()"
   ]
  },
  {
   "cell_type": "markdown",
   "id": "54a1bb3c",
   "metadata": {
    "papermill": {
     "duration": 0.00419,
     "end_time": "2023-10-08T14:28:13.462225",
     "exception": false,
     "start_time": "2023-10-08T14:28:13.458035",
     "status": "completed"
    },
    "tags": []
   },
   "source": [
    "## 5.\n",
    "I'm an economical wine buyer. Which wine is the \"best bargain\"? Create a variable `bargain_wine` with the title of the wine with the highest points-to-price ratio in the dataset."
   ]
  },
  {
   "cell_type": "code",
   "execution_count": 10,
   "id": "98867658",
   "metadata": {
    "execution": {
     "iopub.execute_input": "2023-10-08T14:28:13.472357Z",
     "iopub.status.busy": "2023-10-08T14:28:13.472036Z",
     "iopub.status.idle": "2023-10-08T14:28:13.478426Z",
     "shell.execute_reply": "2023-10-08T14:28:13.476664Z"
    },
    "papermill": {
     "duration": 0.013432,
     "end_time": "2023-10-08T14:28:13.480008",
     "exception": false,
     "start_time": "2023-10-08T14:28:13.466576",
     "status": "completed"
    },
    "tags": []
   },
   "outputs": [
    {
     "name": "stdout",
     "output_type": "stream",
     "text": [
      "Help on method idxmax in module pandas.core.frame:\n",
      "\n",
      "idxmax(axis: 'Axis' = 0, skipna: 'bool' = True, numeric_only: 'bool' = False) -> 'Series' method of pandas.core.frame.DataFrame instance\n",
      "    Return index of first occurrence of maximum over requested axis.\n",
      "    \n",
      "    NA/null values are excluded.\n",
      "    \n",
      "    Parameters\n",
      "    ----------\n",
      "    axis : {0 or 'index', 1 or 'columns'}, default 0\n",
      "        The axis to use. 0 or 'index' for row-wise, 1 or 'columns' for column-wise.\n",
      "    skipna : bool, default True\n",
      "        Exclude NA/null values. If an entire row/column is NA, the result\n",
      "        will be NA.\n",
      "    numeric_only : bool, default False\n",
      "        Include only `float`, `int` or `boolean` data.\n",
      "    \n",
      "        .. versionadded:: 1.5.0\n",
      "    \n",
      "    Returns\n",
      "    -------\n",
      "    Series\n",
      "        Indexes of maxima along the specified axis.\n",
      "    \n",
      "    Raises\n",
      "    ------\n",
      "    ValueError\n",
      "        * If the row/column is empty\n",
      "    \n",
      "    See Also\n",
      "    --------\n",
      "    Series.idxmax : Return index of the maximum element.\n",
      "    \n",
      "    Notes\n",
      "    -----\n",
      "    This method is the DataFrame version of ``ndarray.argmax``.\n",
      "    \n",
      "    Examples\n",
      "    --------\n",
      "    Consider a dataset containing food consumption in Argentina.\n",
      "    \n",
      "    >>> df = pd.DataFrame({'consumption': [10.51, 103.11, 55.48],\n",
      "    ...                     'co2_emissions': [37.2, 19.66, 1712]},\n",
      "    ...                   index=['Pork', 'Wheat Products', 'Beef'])\n",
      "    \n",
      "    >>> df\n",
      "                    consumption  co2_emissions\n",
      "    Pork                  10.51         37.20\n",
      "    Wheat Products       103.11         19.66\n",
      "    Beef                  55.48       1712.00\n",
      "    \n",
      "    By default, it returns the index for the maximum value in each column.\n",
      "    \n",
      "    >>> df.idxmax()\n",
      "    consumption     Wheat Products\n",
      "    co2_emissions             Beef\n",
      "    dtype: object\n",
      "    \n",
      "    To return the index for the maximum value in each row, use ``axis=\"columns\"``.\n",
      "    \n",
      "    >>> df.idxmax(axis=\"columns\")\n",
      "    Pork              co2_emissions\n",
      "    Wheat Products     consumption\n",
      "    Beef              co2_emissions\n",
      "    dtype: object\n",
      "\n"
     ]
    }
   ],
   "source": [
    "help(reviews.idxmax)"
   ]
  },
  {
   "cell_type": "code",
   "execution_count": 11,
   "id": "883e74fa",
   "metadata": {
    "execution": {
     "iopub.execute_input": "2023-10-08T14:28:13.490533Z",
     "iopub.status.busy": "2023-10-08T14:28:13.490163Z",
     "iopub.status.idle": "2023-10-08T14:28:13.685740Z",
     "shell.execute_reply": "2023-10-08T14:28:13.684059Z"
    },
    "papermill": {
     "duration": 0.202768,
     "end_time": "2023-10-08T14:28:13.687561",
     "exception": true,
     "start_time": "2023-10-08T14:28:13.484793",
     "status": "failed"
    },
    "tags": []
   },
   "outputs": [
    {
     "ename": "NameError",
     "evalue": "name 'maximum' is not defined",
     "output_type": "error",
     "traceback": [
      "\u001b[0;31m---------------------------------------------------------------------------\u001b[0m",
      "\u001b[0;31mNameError\u001b[0m                                 Traceback (most recent call last)",
      "Cell \u001b[0;32mIn[11], line 2\u001b[0m\n\u001b[1;32m      1\u001b[0m ratio \u001b[38;5;241m=\u001b[39m (reviews\u001b[38;5;241m.\u001b[39mpoints\u001b[38;5;241m/\u001b[39mreviews\u001b[38;5;241m.\u001b[39mprice)\u001b[38;5;241m.\u001b[39midxmax()\n\u001b[0;32m----> 2\u001b[0m bargain_wine \u001b[38;5;241m=\u001b[39m reviews\u001b[38;5;241m.\u001b[39mloc[\u001b[43mmaximum\u001b[49m,\u001b[38;5;124m'\u001b[39m\u001b[38;5;124mtitle\u001b[39m\u001b[38;5;124m'\u001b[39m]\n\u001b[1;32m      5\u001b[0m q5\u001b[38;5;241m.\u001b[39mcheck()\n",
      "\u001b[0;31mNameError\u001b[0m: name 'maximum' is not defined"
     ]
    }
   ],
   "source": [
    "ratio = (reviews.points/reviews.price).idxmax()\n",
    "bargain_wine = reviews.loc[maximum,'title']\n",
    "\n",
    "\n",
    "q5.check()"
   ]
  },
  {
   "cell_type": "code",
   "execution_count": null,
   "id": "b0fed7ff",
   "metadata": {
    "execution": {
     "iopub.execute_input": "2023-10-08T13:42:41.014714Z",
     "iopub.status.busy": "2023-10-08T13:42:41.014341Z",
     "iopub.status.idle": "2023-10-08T13:42:41.027545Z",
     "shell.execute_reply": "2023-10-08T13:42:41.026585Z",
     "shell.execute_reply.started": "2023-10-08T13:42:41.014683Z"
    },
    "papermill": {
     "duration": null,
     "end_time": null,
     "exception": null,
     "start_time": null,
     "status": "pending"
    },
    "tags": []
   },
   "outputs": [],
   "source": [
    "#q5.hint()\n",
    "q5.solution()"
   ]
  },
  {
   "cell_type": "markdown",
   "id": "d15ec90a",
   "metadata": {
    "papermill": {
     "duration": null,
     "end_time": null,
     "exception": null,
     "start_time": null,
     "status": "pending"
    },
    "tags": []
   },
   "source": [
    "## 6.\n",
    "There are only so many words you can use when describing a bottle of wine. Is a wine more likely to be \"tropical\" or \"fruity\"? Create a Series `descriptor_counts` counting how many times each of these two words appears in the `description` column in the dataset. (For simplicity, let's ignore the capitalized versions of these words.)"
   ]
  },
  {
   "cell_type": "code",
   "execution_count": null,
   "id": "a03047f0",
   "metadata": {
    "execution": {
     "iopub.execute_input": "2023-10-08T14:14:31.320587Z",
     "iopub.status.busy": "2023-10-08T14:14:31.319921Z",
     "iopub.status.idle": "2023-10-08T14:14:33.692148Z",
     "shell.execute_reply": "2023-10-08T14:14:33.690983Z",
     "shell.execute_reply.started": "2023-10-08T14:14:31.320554Z"
    },
    "papermill": {
     "duration": null,
     "end_time": null,
     "exception": null,
     "start_time": null,
     "status": "pending"
    },
    "tags": []
   },
   "outputs": [],
   "source": [
    "tropical=0\n",
    "fruity = 0\n",
    "for i in range(0,len(reviews)):\n",
    "    if('tropical' in reviews.loc[i,'description']): tropical = tropical + 1\n",
    "    if('fruity' in reviews.loc[i,'description']): fruity = fruity + 1 \n",
    "\n",
    "descriptor_counts = pd.Series([tropical,fruity],index=['tropical','fruity'])\n",
    "\n",
    "# Check your answer\n",
    "q6.check()"
   ]
  },
  {
   "cell_type": "code",
   "execution_count": null,
   "id": "3ad7c0cf",
   "metadata": {
    "execution": {
     "iopub.execute_input": "2023-10-08T14:11:39.830664Z",
     "iopub.status.busy": "2023-10-08T14:11:39.830280Z",
     "iopub.status.idle": "2023-10-08T14:11:39.842997Z",
     "shell.execute_reply": "2023-10-08T14:11:39.842328Z",
     "shell.execute_reply.started": "2023-10-08T14:11:39.830631Z"
    },
    "papermill": {
     "duration": null,
     "end_time": null,
     "exception": null,
     "start_time": null,
     "status": "pending"
    },
    "tags": []
   },
   "outputs": [],
   "source": [
    "q6.hint()\n",
    "q6.solution()"
   ]
  },
  {
   "cell_type": "markdown",
   "id": "cbc3094b",
   "metadata": {
    "papermill": {
     "duration": null,
     "end_time": null,
     "exception": null,
     "start_time": null,
     "status": "pending"
    },
    "tags": []
   },
   "source": [
    "## 7.\n",
    "We'd like to host these wine reviews on our website, but a rating system ranging from 80 to 100 points is too hard to understand - we'd like to translate them into simple star ratings. A score of 95 or higher counts as 3 stars, a score of at least 85 but less than 95 is 2 stars. Any other score is 1 star.\n",
    "\n",
    "Also, the Canadian Vintners Association bought a lot of ads on the site, so any wines from Canada should automatically get 3 stars, regardless of points.\n",
    "\n",
    "Create a series `star_ratings` with the number of stars corresponding to each review in the dataset."
   ]
  },
  {
   "cell_type": "code",
   "execution_count": null,
   "id": "d034c113",
   "metadata": {
    "execution": {
     "iopub.execute_input": "2023-10-08T14:27:40.459861Z",
     "iopub.status.busy": "2023-10-08T14:27:40.459518Z",
     "iopub.status.idle": "2023-10-08T14:27:42.984756Z",
     "shell.execute_reply": "2023-10-08T14:27:42.983713Z",
     "shell.execute_reply.started": "2023-10-08T14:27:40.459835Z"
    },
    "papermill": {
     "duration": null,
     "end_time": null,
     "exception": null,
     "start_time": null,
     "status": "pending"
    },
    "tags": []
   },
   "outputs": [],
   "source": [
    "def fn(rows):\n",
    "    if rows.country == 'Canada': return 3\n",
    "    if(rows.points >= 95): return 3\n",
    "    if(rows.points <85): return 1\n",
    "    return 2\n",
    "star_ratings = reviews.apply(fn,axis='columns')\n",
    "\n",
    "q7.check()"
   ]
  },
  {
   "cell_type": "code",
   "execution_count": null,
   "id": "0ef75354",
   "metadata": {
    "execution": {
     "iopub.execute_input": "2023-10-08T14:21:23.376190Z",
     "iopub.status.busy": "2023-10-08T14:21:23.375525Z",
     "iopub.status.idle": "2023-10-08T14:21:23.388894Z",
     "shell.execute_reply": "2023-10-08T14:21:23.387733Z",
     "shell.execute_reply.started": "2023-10-08T14:21:23.376128Z"
    },
    "papermill": {
     "duration": null,
     "end_time": null,
     "exception": null,
     "start_time": null,
     "status": "pending"
    },
    "tags": []
   },
   "outputs": [],
   "source": [
    "q7.hint()\n",
    "q7.solution()"
   ]
  },
  {
   "cell_type": "markdown",
   "id": "49349c4f",
   "metadata": {
    "papermill": {
     "duration": null,
     "end_time": null,
     "exception": null,
     "start_time": null,
     "status": "pending"
    },
    "tags": []
   },
   "source": [
    "# Keep going\n",
    "Continue to **[grouping and sorting](https://www.kaggle.com/residentmario/grouping-and-sorting)**."
   ]
  },
  {
   "cell_type": "markdown",
   "id": "f3f7a494",
   "metadata": {
    "papermill": {
     "duration": null,
     "end_time": null,
     "exception": null,
     "start_time": null,
     "status": "pending"
    },
    "tags": []
   },
   "source": [
    "---\n",
    "\n",
    "\n",
    "\n",
    "\n",
    "*Have questions or comments? Visit the [course discussion forum](https://www.kaggle.com/learn/pandas/discussion) to chat with other learners.*"
   ]
  }
 ],
 "metadata": {
  "kernelspec": {
   "display_name": "Python 3",
   "language": "python",
   "name": "python3"
  },
  "language_info": {
   "codemirror_mode": {
    "name": "ipython",
    "version": 3
   },
   "file_extension": ".py",
   "mimetype": "text/x-python",
   "name": "python",
   "nbconvert_exporter": "python",
   "pygments_lexer": "ipython3",
   "version": "3.10.12"
  },
  "papermill": {
   "default_parameters": {},
   "duration": 13.937197,
   "end_time": "2023-10-08T14:28:14.413072",
   "environment_variables": {},
   "exception": true,
   "input_path": "__notebook__.ipynb",
   "output_path": "__notebook__.ipynb",
   "parameters": {},
   "start_time": "2023-10-08T14:28:00.475875",
   "version": "2.4.0"
  }
 },
 "nbformat": 4,
 "nbformat_minor": 5
}
