{
 "cells": [
  {
   "cell_type": "markdown",
   "id": "dda5eadd",
   "metadata": {
    "papermill": {
     "duration": 0.004161,
     "end_time": "2023-10-14T09:23:03.228015",
     "exception": false,
     "start_time": "2023-10-14T09:23:03.223854",
     "status": "completed"
    },
    "tags": []
   },
   "source": [
    "**This notebook is an exercise in the [Pandas](https://www.kaggle.com/learn/pandas) course.  You can reference the tutorial at [this link](https://www.kaggle.com/residentmario/data-types-and-missing-values).**\n",
    "\n",
    "---\n"
   ]
  },
  {
   "cell_type": "markdown",
   "id": "886df923",
   "metadata": {
    "papermill": {
     "duration": 0.003865,
     "end_time": "2023-10-14T09:23:03.237726",
     "exception": false,
     "start_time": "2023-10-14T09:23:03.233861",
     "status": "completed"
    },
    "tags": []
   },
   "source": [
    "# Introduction\n",
    "\n",
    "Run the following cell to load your data and some utility functions."
   ]
  },
  {
   "cell_type": "code",
   "execution_count": 1,
   "id": "accdb438",
   "metadata": {
    "execution": {
     "iopub.execute_input": "2023-10-14T09:23:03.246540Z",
     "iopub.status.busy": "2023-10-14T09:23:03.246132Z",
     "iopub.status.idle": "2023-10-14T09:23:06.779524Z",
     "shell.execute_reply": "2023-10-14T09:23:06.778184Z"
    },
    "papermill": {
     "duration": 3.540623,
     "end_time": "2023-10-14T09:23:06.781899",
     "exception": false,
     "start_time": "2023-10-14T09:23:03.241276",
     "status": "completed"
    },
    "tags": []
   },
   "outputs": [
    {
     "name": "stdout",
     "output_type": "stream",
     "text": [
      "Setup complete.\n"
     ]
    }
   ],
   "source": [
    "import pandas as pd\n",
    "\n",
    "reviews = pd.read_csv(\"../input/wine-reviews/winemag-data-130k-v2.csv\", index_col=0)\n",
    "\n",
    "from learntools.core import binder; binder.bind(globals())\n",
    "from learntools.pandas.data_types_and_missing_data import *\n",
    "print(\"Setup complete.\")"
   ]
  },
  {
   "cell_type": "markdown",
   "id": "337e139c",
   "metadata": {
    "papermill": {
     "duration": 0.003435,
     "end_time": "2023-10-14T09:23:06.789282",
     "exception": false,
     "start_time": "2023-10-14T09:23:06.785847",
     "status": "completed"
    },
    "tags": []
   },
   "source": [
    "# Exercises"
   ]
  },
  {
   "cell_type": "markdown",
   "id": "d0251cbe",
   "metadata": {
    "papermill": {
     "duration": 0.003388,
     "end_time": "2023-10-14T09:23:06.796351",
     "exception": false,
     "start_time": "2023-10-14T09:23:06.792963",
     "status": "completed"
    },
    "tags": []
   },
   "source": [
    "## 1. \n",
    "What is the data type of the `points` column in the dataset?"
   ]
  },
  {
   "cell_type": "code",
   "execution_count": 2,
   "id": "2da66e70",
   "metadata": {
    "execution": {
     "iopub.execute_input": "2023-10-14T09:23:06.804970Z",
     "iopub.status.busy": "2023-10-14T09:23:06.804649Z",
     "iopub.status.idle": "2023-10-14T09:23:06.814513Z",
     "shell.execute_reply": "2023-10-14T09:23:06.813457Z"
    },
    "papermill": {
     "duration": 0.01634,
     "end_time": "2023-10-14T09:23:06.816226",
     "exception": false,
     "start_time": "2023-10-14T09:23:06.799886",
     "status": "completed"
    },
    "tags": []
   },
   "outputs": [
    {
     "data": {
      "application/javascript": [
       "parent.postMessage({\"jupyterEvent\": \"custom.exercise_interaction\", \"data\": {\"outcomeType\": 1, \"valueTowardsCompletion\": 0.25, \"interactionType\": 1, \"questionType\": 1, \"questionId\": \"1_PointsDtype\", \"learnToolsVersion\": \"0.3.4\", \"failureMessage\": \"\", \"exceptionClass\": \"\", \"trace\": \"\"}}, \"*\")"
      ],
      "text/plain": [
       "<IPython.core.display.Javascript object>"
      ]
     },
     "metadata": {},
     "output_type": "display_data"
    },
    {
     "data": {
      "text/markdown": [
       "<span style=\"color:#33cc33\">Correct</span>"
      ],
      "text/plain": [
       "Correct"
      ]
     },
     "metadata": {},
     "output_type": "display_data"
    }
   ],
   "source": [
    "# Your code here\n",
    "dtype = reviews.points.dtype\n",
    "\n",
    "# Check your answer\n",
    "q1.check()"
   ]
  },
  {
   "cell_type": "code",
   "execution_count": 3,
   "id": "78e060de",
   "metadata": {
    "execution": {
     "iopub.execute_input": "2023-10-14T09:23:06.825569Z",
     "iopub.status.busy": "2023-10-14T09:23:06.825150Z",
     "iopub.status.idle": "2023-10-14T09:23:06.829685Z",
     "shell.execute_reply": "2023-10-14T09:23:06.828563Z"
    },
    "papermill": {
     "duration": 0.011583,
     "end_time": "2023-10-14T09:23:06.831656",
     "exception": false,
     "start_time": "2023-10-14T09:23:06.820073",
     "status": "completed"
    },
    "tags": []
   },
   "outputs": [],
   "source": [
    "#q1.hint()\n",
    "#q1.solution()"
   ]
  },
  {
   "cell_type": "markdown",
   "id": "4b420019",
   "metadata": {
    "papermill": {
     "duration": 0.003694,
     "end_time": "2023-10-14T09:23:06.839415",
     "exception": false,
     "start_time": "2023-10-14T09:23:06.835721",
     "status": "completed"
    },
    "tags": []
   },
   "source": [
    "## 2. \n",
    "Create a Series from entries in the `points` column, but convert the entries to strings. Hint: strings are `str` in native Python."
   ]
  },
  {
   "cell_type": "code",
   "execution_count": 4,
   "id": "3a914994",
   "metadata": {
    "execution": {
     "iopub.execute_input": "2023-10-14T09:23:06.849917Z",
     "iopub.status.busy": "2023-10-14T09:23:06.848999Z",
     "iopub.status.idle": "2023-10-14T09:23:06.913220Z",
     "shell.execute_reply": "2023-10-14T09:23:06.912187Z"
    },
    "papermill": {
     "duration": 0.071834,
     "end_time": "2023-10-14T09:23:06.915154",
     "exception": false,
     "start_time": "2023-10-14T09:23:06.843320",
     "status": "completed"
    },
    "tags": []
   },
   "outputs": [
    {
     "data": {
      "application/javascript": [
       "parent.postMessage({\"jupyterEvent\": \"custom.exercise_interaction\", \"data\": {\"outcomeType\": 1, \"valueTowardsCompletion\": 0.25, \"interactionType\": 1, \"questionType\": 1, \"questionId\": \"2_StrPoints\", \"learnToolsVersion\": \"0.3.4\", \"failureMessage\": \"\", \"exceptionClass\": \"\", \"trace\": \"\"}}, \"*\")"
      ],
      "text/plain": [
       "<IPython.core.display.Javascript object>"
      ]
     },
     "metadata": {},
     "output_type": "display_data"
    },
    {
     "data": {
      "text/markdown": [
       "<span style=\"color:#33cc33\">Correct</span>"
      ],
      "text/plain": [
       "Correct"
      ]
     },
     "metadata": {},
     "output_type": "display_data"
    }
   ],
   "source": [
    "point_strings = reviews.points.astype('str')\n",
    "\n",
    "# Check your answer\n",
    "q2.check()"
   ]
  },
  {
   "cell_type": "code",
   "execution_count": 5,
   "id": "108a522f",
   "metadata": {
    "execution": {
     "iopub.execute_input": "2023-10-14T09:23:06.924963Z",
     "iopub.status.busy": "2023-10-14T09:23:06.924601Z",
     "iopub.status.idle": "2023-10-14T09:23:06.928318Z",
     "shell.execute_reply": "2023-10-14T09:23:06.927614Z"
    },
    "papermill": {
     "duration": 0.011377,
     "end_time": "2023-10-14T09:23:06.930687",
     "exception": false,
     "start_time": "2023-10-14T09:23:06.919310",
     "status": "completed"
    },
    "tags": []
   },
   "outputs": [],
   "source": [
    "#q2.hint()\n",
    "#q2.solution()"
   ]
  },
  {
   "cell_type": "markdown",
   "id": "60be9c55",
   "metadata": {
    "papermill": {
     "duration": 0.004036,
     "end_time": "2023-10-14T09:23:06.939074",
     "exception": false,
     "start_time": "2023-10-14T09:23:06.935038",
     "status": "completed"
    },
    "tags": []
   },
   "source": [
    "## 3.\n",
    "Sometimes the price column is null. How many reviews in the dataset are missing a price?"
   ]
  },
  {
   "cell_type": "code",
   "execution_count": 6,
   "id": "c47165b8",
   "metadata": {
    "execution": {
     "iopub.execute_input": "2023-10-14T09:23:06.949156Z",
     "iopub.status.busy": "2023-10-14T09:23:06.948799Z",
     "iopub.status.idle": "2023-10-14T09:23:06.963742Z",
     "shell.execute_reply": "2023-10-14T09:23:06.962702Z"
    },
    "papermill": {
     "duration": 0.022588,
     "end_time": "2023-10-14T09:23:06.965951",
     "exception": false,
     "start_time": "2023-10-14T09:23:06.943363",
     "status": "completed"
    },
    "tags": []
   },
   "outputs": [
    {
     "data": {
      "application/javascript": [
       "parent.postMessage({\"jupyterEvent\": \"custom.exercise_interaction\", \"data\": {\"outcomeType\": 1, \"valueTowardsCompletion\": 0.25, \"interactionType\": 1, \"questionType\": 1, \"questionId\": \"3_CountMissingPrices\", \"learnToolsVersion\": \"0.3.4\", \"failureMessage\": \"\", \"exceptionClass\": \"\", \"trace\": \"\"}}, \"*\")"
      ],
      "text/plain": [
       "<IPython.core.display.Javascript object>"
      ]
     },
     "metadata": {},
     "output_type": "display_data"
    },
    {
     "data": {
      "text/markdown": [
       "<span style=\"color:#33cc33\">Correct</span>"
      ],
      "text/plain": [
       "Correct"
      ]
     },
     "metadata": {},
     "output_type": "display_data"
    }
   ],
   "source": [
    "n_missing_prices = len(reviews.loc[reviews.price.isnull()])\n",
    "# Check your answer\n",
    "q3.check()"
   ]
  },
  {
   "cell_type": "code",
   "execution_count": 7,
   "id": "3f2ed286",
   "metadata": {
    "execution": {
     "iopub.execute_input": "2023-10-14T09:23:06.977411Z",
     "iopub.status.busy": "2023-10-14T09:23:06.977029Z",
     "iopub.status.idle": "2023-10-14T09:23:06.989695Z",
     "shell.execute_reply": "2023-10-14T09:23:06.988413Z"
    },
    "papermill": {
     "duration": 0.021072,
     "end_time": "2023-10-14T09:23:06.991845",
     "exception": false,
     "start_time": "2023-10-14T09:23:06.970773",
     "status": "completed"
    },
    "tags": []
   },
   "outputs": [
    {
     "data": {
      "application/javascript": [
       "parent.postMessage({\"jupyterEvent\": \"custom.exercise_interaction\", \"data\": {\"interactionType\": 2, \"questionType\": 1, \"questionId\": \"3_CountMissingPrices\", \"learnToolsVersion\": \"0.3.4\", \"valueTowardsCompletion\": 0.0, \"failureMessage\": \"\", \"exceptionClass\": \"\", \"trace\": \"\", \"outcomeType\": 4}}, \"*\")"
      ],
      "text/plain": [
       "<IPython.core.display.Javascript object>"
      ]
     },
     "metadata": {},
     "output_type": "display_data"
    },
    {
     "data": {
      "text/markdown": [
       "<span style=\"color:#3366cc\">Hint:</span> Use `pd.isnull()`."
      ],
      "text/plain": [
       "Hint: Use `pd.isnull()`."
      ]
     },
     "metadata": {},
     "output_type": "display_data"
    },
    {
     "data": {
      "application/javascript": [
       "parent.postMessage({\"jupyterEvent\": \"custom.exercise_interaction\", \"data\": {\"interactionType\": 3, \"questionType\": 1, \"questionId\": \"3_CountMissingPrices\", \"learnToolsVersion\": \"0.3.4\", \"valueTowardsCompletion\": 0.0, \"failureMessage\": \"\", \"exceptionClass\": \"\", \"trace\": \"\", \"outcomeType\": 4}}, \"*\")"
      ],
      "text/plain": [
       "<IPython.core.display.Javascript object>"
      ]
     },
     "metadata": {},
     "output_type": "display_data"
    },
    {
     "data": {
      "text/markdown": [
       "<span style=\"color:#33cc99\">Solution:</span> \n",
       "```python\n",
       "missing_price_reviews = reviews[reviews.price.isnull()]\n",
       "n_missing_prices = len(missing_price_reviews)\n",
       "# Cute alternative solution: if we sum a boolean series, True is treated as 1 and False as 0\n",
       "n_missing_prices = reviews.price.isnull().sum()\n",
       "# or equivalently:\n",
       "n_missing_prices = pd.isnull(reviews.price).sum()\n",
       "\n",
       "```"
      ],
      "text/plain": [
       "Solution: \n",
       "```python\n",
       "missing_price_reviews = reviews[reviews.price.isnull()]\n",
       "n_missing_prices = len(missing_price_reviews)\n",
       "# Cute alternative solution: if we sum a boolean series, True is treated as 1 and False as 0\n",
       "n_missing_prices = reviews.price.isnull().sum()\n",
       "# or equivalently:\n",
       "n_missing_prices = pd.isnull(reviews.price).sum()\n",
       "\n",
       "```"
      ]
     },
     "metadata": {},
     "output_type": "display_data"
    }
   ],
   "source": [
    "q3.hint()\n",
    "q3.solution()"
   ]
  },
  {
   "cell_type": "markdown",
   "id": "e27f3ffb",
   "metadata": {
    "papermill": {
     "duration": 0.004674,
     "end_time": "2023-10-14T09:23:07.001330",
     "exception": false,
     "start_time": "2023-10-14T09:23:06.996656",
     "status": "completed"
    },
    "tags": []
   },
   "source": [
    "## 4.\n",
    "What are the most common wine-producing regions? Create a Series counting the number of times each value occurs in the `region_1` field. This field is often missing data, so replace missing values with `Unknown`. Sort in descending order.  Your output should look something like this:\n",
    "\n",
    "```\n",
    "Unknown                    21247\n",
    "Napa Valley                 4480\n",
    "                           ...  \n",
    "Bardolino Superiore            1\n",
    "Primitivo del Tarantino        1\n",
    "Name: region_1, Length: 1230, dtype: int64\n",
    "```"
   ]
  },
  {
   "cell_type": "code",
   "execution_count": 8,
   "id": "d2fb5959",
   "metadata": {
    "execution": {
     "iopub.execute_input": "2023-10-14T09:23:07.014939Z",
     "iopub.status.busy": "2023-10-14T09:23:07.014559Z",
     "iopub.status.idle": "2023-10-14T09:23:07.029141Z",
     "shell.execute_reply": "2023-10-14T09:23:07.028243Z"
    },
    "papermill": {
     "duration": 0.024734,
     "end_time": "2023-10-14T09:23:07.031035",
     "exception": false,
     "start_time": "2023-10-14T09:23:07.006301",
     "status": "completed"
    },
    "tags": []
   },
   "outputs": [
    {
     "data": {
      "application/javascript": [
       "parent.postMessage({\"jupyterEvent\": \"custom.exercise_interaction\", \"data\": {\"outcomeType\": 4, \"interactionType\": 1, \"questionType\": 2, \"questionId\": \"4_ReviewsPerRegion\", \"learnToolsVersion\": \"0.3.4\", \"valueTowardsCompletion\": 0.0, \"failureMessage\": \"\", \"exceptionClass\": \"\", \"trace\": \"\"}}, \"*\")"
      ],
      "text/plain": [
       "<IPython.core.display.Javascript object>"
      ]
     },
     "metadata": {},
     "output_type": "display_data"
    },
    {
     "data": {
      "text/markdown": [
       "<span style=\"color:#ccaa33\">Check:</span> When you've updated the starter code, `check()` will tell you whether your code is correct. Remember, you must create the following variable: `reviews_per_region`"
      ],
      "text/plain": [
       "Check: When you've updated the starter code, `check()` will tell you whether your code is correct. Remember, you must create the following variable: `reviews_per_region`"
      ]
     },
     "metadata": {},
     "output_type": "display_data"
    }
   ],
   "source": [
    "reviews.region_2.fillna('Unknown')\n",
    "#reviews_per_region = reviews.region_1.fillna('Unknown').value_counts().sort_values(ascending = False)\n",
    "reviews.region_2\n",
    "# Check your answer\n",
    "q4.check()"
   ]
  },
  {
   "cell_type": "code",
   "execution_count": 9,
   "id": "15309c85",
   "metadata": {
    "execution": {
     "iopub.execute_input": "2023-10-14T09:23:07.043862Z",
     "iopub.status.busy": "2023-10-14T09:23:07.043226Z",
     "iopub.status.idle": "2023-10-14T09:23:07.051452Z",
     "shell.execute_reply": "2023-10-14T09:23:07.050499Z"
    },
    "papermill": {
     "duration": 0.017188,
     "end_time": "2023-10-14T09:23:07.053526",
     "exception": false,
     "start_time": "2023-10-14T09:23:07.036338",
     "status": "completed"
    },
    "tags": []
   },
   "outputs": [
    {
     "data": {
      "text/plain": [
       "0                       NaN\n",
       "1                       NaN\n",
       "2         Willamette Valley\n",
       "3                       NaN\n",
       "4         Willamette Valley\n",
       "                ...        \n",
       "129966                  NaN\n",
       "129967         Oregon Other\n",
       "129968                  NaN\n",
       "129969                  NaN\n",
       "129970                  NaN\n",
       "Name: region_2, Length: 129971, dtype: object"
      ]
     },
     "execution_count": 9,
     "metadata": {},
     "output_type": "execute_result"
    }
   ],
   "source": [
    "reviews.region_2"
   ]
  },
  {
   "cell_type": "code",
   "execution_count": 10,
   "id": "2d09f1b2",
   "metadata": {
    "execution": {
     "iopub.execute_input": "2023-10-14T09:23:07.066671Z",
     "iopub.status.busy": "2023-10-14T09:23:07.065919Z",
     "iopub.status.idle": "2023-10-14T09:23:07.074999Z",
     "shell.execute_reply": "2023-10-14T09:23:07.074362Z"
    },
    "papermill": {
     "duration": 0.017822,
     "end_time": "2023-10-14T09:23:07.076859",
     "exception": false,
     "start_time": "2023-10-14T09:23:07.059037",
     "status": "completed"
    },
    "tags": []
   },
   "outputs": [
    {
     "data": {
      "application/javascript": [
       "parent.postMessage({\"jupyterEvent\": \"custom.exercise_interaction\", \"data\": {\"interactionType\": 2, \"questionType\": 2, \"questionId\": \"4_ReviewsPerRegion\", \"learnToolsVersion\": \"0.3.4\", \"valueTowardsCompletion\": 0.0, \"failureMessage\": \"\", \"exceptionClass\": \"\", \"trace\": \"\", \"outcomeType\": 4}}, \"*\")"
      ],
      "text/plain": [
       "<IPython.core.display.Javascript object>"
      ]
     },
     "metadata": {},
     "output_type": "display_data"
    },
    {
     "data": {
      "text/markdown": [
       "<span style=\"color:#3366cc\">Hint:</span> Use `fillna()`, `value_counts()`, and `sort_values()`."
      ],
      "text/plain": [
       "Hint: Use `fillna()`, `value_counts()`, and `sort_values()`."
      ]
     },
     "metadata": {},
     "output_type": "display_data"
    },
    {
     "data": {
      "application/javascript": [
       "parent.postMessage({\"jupyterEvent\": \"custom.exercise_interaction\", \"data\": {\"interactionType\": 3, \"questionType\": 2, \"questionId\": \"4_ReviewsPerRegion\", \"learnToolsVersion\": \"0.3.4\", \"valueTowardsCompletion\": 0.0, \"failureMessage\": \"\", \"exceptionClass\": \"\", \"trace\": \"\", \"outcomeType\": 4}}, \"*\")"
      ],
      "text/plain": [
       "<IPython.core.display.Javascript object>"
      ]
     },
     "metadata": {},
     "output_type": "display_data"
    },
    {
     "data": {
      "text/markdown": [
       "<span style=\"color:#33cc99\">Solution:</span> \n",
       "```python\n",
       "reviews_per_region = reviews.region_1.fillna('Unknown').value_counts().sort_values(ascending=False)\n",
       "```"
      ],
      "text/plain": [
       "Solution: \n",
       "```python\n",
       "reviews_per_region = reviews.region_1.fillna('Unknown').value_counts().sort_values(ascending=False)\n",
       "```"
      ]
     },
     "metadata": {},
     "output_type": "display_data"
    }
   ],
   "source": [
    "q4.hint()\n",
    "q4.solution()"
   ]
  },
  {
   "cell_type": "markdown",
   "id": "4286c02f",
   "metadata": {
    "papermill": {
     "duration": 0.005057,
     "end_time": "2023-10-14T09:23:07.087433",
     "exception": false,
     "start_time": "2023-10-14T09:23:07.082376",
     "status": "completed"
    },
    "tags": []
   },
   "source": [
    "# Keep going\n",
    "\n",
    "Move on to **[renaming and combining](https://www.kaggle.com/residentmario/renaming-and-combining)**."
   ]
  },
  {
   "cell_type": "markdown",
   "id": "09f43765",
   "metadata": {
    "papermill": {
     "duration": 0.005012,
     "end_time": "2023-10-14T09:23:07.097694",
     "exception": false,
     "start_time": "2023-10-14T09:23:07.092682",
     "status": "completed"
    },
    "tags": []
   },
   "source": [
    "---\n",
    "\n",
    "\n",
    "\n",
    "\n",
    "*Have questions or comments? Visit the [course discussion forum](https://www.kaggle.com/learn/pandas/discussion) to chat with other learners.*"
   ]
  }
 ],
 "metadata": {
  "kernelspec": {
   "display_name": "Python 3",
   "language": "python",
   "name": "python3"
  },
  "language_info": {
   "codemirror_mode": {
    "name": "ipython",
    "version": 3
   },
   "file_extension": ".py",
   "mimetype": "text/x-python",
   "name": "python",
   "nbconvert_exporter": "python",
   "pygments_lexer": "ipython3",
   "version": "3.10.12"
  },
  "papermill": {
   "default_parameters": {},
   "duration": 7.564212,
   "end_time": "2023-10-14T09:23:07.623116",
   "environment_variables": {},
   "exception": null,
   "input_path": "__notebook__.ipynb",
   "output_path": "__notebook__.ipynb",
   "parameters": {},
   "start_time": "2023-10-14T09:23:00.058904",
   "version": "2.4.0"
  }
 },
 "nbformat": 4,
 "nbformat_minor": 5
}
